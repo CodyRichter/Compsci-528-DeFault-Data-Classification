{
 "cells": [
  {
   "cell_type": "code",
   "execution_count": 105,
   "outputs": [],
   "source": [
    "import time\n",
    "\n",
    "import numpy as np\n",
    "import glob\n",
    "import os\n",
    "from sklearn.neighbors import KNeighborsClassifier"
   ],
   "metadata": {
    "collapsed": false,
    "pycharm": {
     "name": "#%%\n"
    }
   }
  },
  {
   "cell_type": "code",
   "execution_count": 106,
   "outputs": [],
   "source": [
    "# Directory containing all the phone swing data\n",
    "folder_containing_sensor_data = './data/'\n",
    "sensor_parse_interval_ms = 30"
   ],
   "metadata": {
    "collapsed": false,
    "pycharm": {
     "name": "#%%\n"
    }
   }
  },
  {
   "cell_type": "markdown",
   "source": [
    "## Step 1: Data Loading\n",
    "\n",
    "This section will load in the sensor data, as well as interpolate the data at a regular interval, which is defined above."
   ],
   "metadata": {
    "collapsed": false,
    "pycharm": {
     "name": "#%% md\n"
    }
   }
  },
  {
   "cell_type": "code",
   "execution_count": 107,
   "outputs": [],
   "source": [
    "# Organize files that contain the relevant data for each swing type\n",
    "data = {\n",
    "    'acc': {\n",
    "        'Forehand': {\n",
    "            'Good': {},\n",
    "            'Bad': {}\n",
    "        },\n",
    "        'Backhand': {\n",
    "            'Good': {},\n",
    "            'Bad': {}\n",
    "        },\n",
    "        'Overhead': {\n",
    "            'Good': {},\n",
    "            'Bad': {}\n",
    "        }\n",
    "    },\n",
    "    'bar': {\n",
    "        'Forehand': {\n",
    "            'Good': {},\n",
    "            'Bad': {}\n",
    "        },\n",
    "        'Backhand': {\n",
    "            'Good': {},\n",
    "            'Bad': {}\n",
    "        },\n",
    "        'Overhead': {\n",
    "            'Good': {},\n",
    "            'Bad': {}\n",
    "        }\n",
    "    }\n",
    "}"
   ],
   "metadata": {
    "collapsed": false,
    "pycharm": {
     "name": "#%%\n"
    }
   }
  },
  {
   "cell_type": "code",
   "execution_count": 108,
   "outputs": [],
   "source": [
    "def load_data_file(file_path):\n",
    "    accel_mode = True\n",
    "    if 'bar' in file_path:\n",
    "        accel_mode = False\n",
    "\n",
    "    loaded_file_data = np.genfromtxt(file_path, dtype='double', delimiter=',')\n",
    "    loaded_file_data[:, 0] = loaded_file_data[:, 0] - loaded_file_data[0][0]\n",
    "\n",
    "    new_timestamps = np.arange(0, loaded_file_data[:,0][-1], sensor_parse_interval_ms, dtype='int64')\n",
    "\n",
    "    # Now, we interpolate the data to be on a common time axis\n",
    "    if accel_mode:\n",
    "        new_x = np.interp(x=new_timestamps, xp=loaded_file_data[:,0], fp=loaded_file_data[:,1])\n",
    "        new_y = np.interp(x=new_timestamps, xp=loaded_file_data[:,0], fp=loaded_file_data[:,2])\n",
    "        new_z = np.interp(x=new_timestamps, xp=loaded_file_data[:,0], fp=loaded_file_data[:,3])\n",
    "        aligned_data = np.column_stack((new_timestamps, new_x, new_y, new_z))\n",
    "\n",
    "    else:\n",
    "        new_bar = np.interp(x=new_timestamps, xp=loaded_file_data[:,0], fp=loaded_file_data[:,1])\n",
    "        aligned_data = np.column_stack((new_timestamps, new_bar))\n",
    "\n",
    "    return aligned_data"
   ],
   "metadata": {
    "collapsed": false,
    "pycharm": {
     "name": "#%%\n"
    }
   }
  },
  {
   "cell_type": "code",
   "execution_count": 109,
   "outputs": [
    {
     "name": "stdout",
     "output_type": "stream",
     "text": [
      "Loaded Data from 473 Swings in 1.09 Seconds\n"
     ]
    }
   ],
   "source": [
    "all_data_files = glob.glob(os.path.join(folder_containing_sensor_data, '*'))\n",
    "\n",
    "start_time = time.time()\n",
    "for data_file in all_data_files:\n",
    "    swing_success = 'Good'\n",
    "    data_file_name_only = data_file.split('/')[-1][:-4]\n",
    "    method, swing_type, timestamp = data_file_name_only.split('_')[:3]\n",
    "\n",
    "    # Mark as bad if necessary\n",
    "    if len(data_file_name_only.split('_')) >= 4:\n",
    "        swing_success = 'Bad'\n",
    "\n",
    "    data[method][swing_type][swing_success][timestamp] = load_data_file(data_file)\n",
    "end_time = time.time()\n",
    "\n",
    "print(f\"Loaded Data from {len(all_data_files)//2} Swings in {(end_time-start_time):.2f} Seconds\")"
   ],
   "metadata": {
    "collapsed": false,
    "pycharm": {
     "name": "#%%\n"
    }
   }
  },
  {
   "cell_type": "markdown",
   "source": [
    "## Step 2: Classifier Creation\n",
    "\n",
    "Now that the data has been recorded, it is time to create the classifier."
   ],
   "metadata": {
    "collapsed": false,
    "pycharm": {
     "name": "#%% md\n"
    }
   }
  },
  {
   "cell_type": "code",
   "execution_count": 109,
   "outputs": [],
   "source": [],
   "metadata": {
    "collapsed": false,
    "pycharm": {
     "name": "#%%\n"
    }
   }
  }
 ],
 "metadata": {
  "kernelspec": {
   "display_name": "Python 3",
   "language": "python",
   "name": "python3"
  },
  "language_info": {
   "codemirror_mode": {
    "name": "ipython",
    "version": 2
   },
   "file_extension": ".py",
   "mimetype": "text/x-python",
   "name": "python",
   "nbconvert_exporter": "python",
   "pygments_lexer": "ipython2",
   "version": "2.7.6"
  }
 },
 "nbformat": 4,
 "nbformat_minor": 0
}